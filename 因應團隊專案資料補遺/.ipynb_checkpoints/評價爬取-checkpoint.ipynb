{
 "cells": [
  {
   "cell_type": "code",
   "execution_count": 1,
   "metadata": {},
   "outputs": [],
   "source": [
    "import requests, time, math, threading\n",
    "import sqlite3, os\n",
    "import pandas as pd\n",
    "from datetime import datetime\n",
    "from bs4 import BeautifulSoup\n",
    "from queue import Queue\n",
    "from tools import get_chrome, find_element, get_soup\n",
    "from fake_useragent import UserAgent\n",
    "from selenium import webdriver\n",
    "from selenium.webdriver.chrome.options import Options\n",
    "from selenium.webdriver.chrome.service import Service\n",
    "from selenium.webdriver.support.ui import Select\n",
    "from selenium.webdriver.common.by import By"
   ]
  },
  {
   "cell_type": "code",
   "execution_count": 2,
   "metadata": {},
   "outputs": [],
   "source": [
    "def get_chrome(url, chromeDriver= r'C:\\webdriver\\chromedriver.exe', hide=False):    \n",
    "    try:        \n",
    "        service=Service(chromeDriver)\n",
    "        options=webdriver.ChromeOptions()  \n",
    "        userAgent = UserAgent().random   # 為了搞定反爬蟲\n",
    "        # print(userAgent )\n",
    "        options.add_argument(f'user-agent= {userAgent}')\n",
    "        if hide:\n",
    "            options.add_argument('--headless')\n",
    "        chrome= webdriver.Chrome(service= service, options=options)\n",
    "        chrome.implicitly_wait(15)\n",
    "        chrome.get(url)\n",
    "        return chrome\n",
    "    except Exception as e:\n",
    "        print(e, \"是出了什麼問題...?\")    \n",
    "    return \"Nothing\"\n",
    "def find_element(chrome, xpath):\n",
    "    try:\n",
    "        return chrome.find_element(By.XPATH, xpath)\n",
    "    except Exception as e:\n",
    "        print(e, \"xpath怪怪的@@\")\n",
    "    return \"Nothing\""
   ]
  },
  {
   "cell_type": "code",
   "execution_count": 4,
   "metadata": {
    "collapsed": true
   },
   "outputs": [
    {
     "name": "stdout",
     "output_type": "stream",
     "text": [
      "     Unnamed: 0.1  Unnamed: 0   ID     shopName        shopAddress  \\\n",
      "0               0           0    0  千手千眼觀世音菩薩聖像    新北市淡水區頂田寮路1000號   \n",
      "1               1           1    1     康誥坑溪櫻花大道    新北市汐止區水源路一段246號   \n",
      "2               2           2    2      玩聚窩玩具銀行             新北市板橋區   \n",
      "3               3           3    3   烏來龍門精緻溫泉民宿      新北市烏來區溫泉街116號   \n",
      "4               4           4    4      世界宗教博物館  新北市永和區中山路一段236號7樓   \n",
      "..            ...         ...  ...          ...                ...   \n",
      "192           192         192  192        汪汪地瓜園      新北市金山區六股林口74號   \n",
      "193           193         193  193    新北市立黃金博物館        新北市瑞芳區金光路8號   \n",
      "194           194         194  194    板橋435藝文特區      新北市板橋區中正路435號   \n",
      "195           195         195  195        老梅綠石槽    石門(2號省道26.3公里處)   \n",
      "196           196         196  196      台灣玩具博物館      新北市板橋區中正路435號   \n",
      "\n",
      "        shopPhone                                          shopHours  \\\n",
      "0    02-2626-9242                             週六、日10：00～16：00（週一至五休）   \n",
      "1    02-2626-9242                                             24小時開放   \n",
      "2    0966-715-322  週三、六、日09：00～12：00、14：00～17：00（週一及國定假日休，週二、四、五僅...   \n",
      "3    02-2661-8187                                    周一至日09：00～00：00   \n",
      "4    02-8231-6118                               週二至日10：00～17：00（週一休）   \n",
      "..            ...                                                ...   \n",
      "192  0961-555-515               週二～五09：30～17：00／週六、日09：30～19：00（週一休）   \n",
      "193  02-2496-2800  週一至五09：30～17：00／週六、日09：30～18：00 （每月第一個週一、除夕、大年...   \n",
      "194  02-2969-0366                    週一至五09：00～17：00／週六、日09：00～18：00   \n",
      "195  02-2969-0366                                                無資料   \n",
      "196  0917-567-617                               週二至日10：00～17：00（週一休）   \n",
      "\n",
      "                                             shopPhoto  \n",
      "0    f574bd44.jpg \\n e64a849e.jpg \\n 9919115b.jpg \\...  \n",
      "1    dec31151.jpg \\n b5f98981.jpg \\n 8a995581.jpg \\...  \n",
      "2    c6a8acc0.jpg \\n c31ed92f.jpg \\n 78f15969.jpg \\...  \n",
      "3    06277711.jpg \\n 3268c72b.jpg \\n e63335bc.jpg \\...  \n",
      "4    3ab77b87.jpg \\n 363bf8d1.jpg \\n d6b6bd5b.jpg \\...  \n",
      "..                                                 ...  \n",
      "192  21fe83e7.jpg \\n 77b228c6.jpg \\n 2a47c554.jpg \\...  \n",
      "193  5bf6d213.jpg \\n 565f51c6.jpg \\n 797dfab0.jpg \\...  \n",
      "194                                       7abd652c.jpg  \n",
      "195                                       1e8822f0.jpg  \n",
      "196  2b97a602.jpg \\n a854f4f2.jpg \\n 7d21288d.jpg \\...  \n",
      "\n",
      "[197 rows x 8 columns]\n"
     ]
    }
   ],
   "source": [
    "url = \"https://www.google.com/maps/\"\n",
    "datas = pd.read_csv(\"NewTaipei_to_hots_copy1.csv\", encoding = \"utf-8-sig\")\n",
    "print(datas)"
   ]
  },
  {
   "cell_type": "code",
   "execution_count": 8,
   "metadata": {},
   "outputs": [
    {
     "name": "stdout",
     "output_type": "stream",
     "text": [
      "康誥坑溪櫻花大道\n"
     ]
    }
   ],
   "source": [
    "print(datas[\"shopName\"][1])"
   ]
  },
  {
   "cell_type": "code",
   "execution_count": 5,
   "metadata": {},
   "outputs": [
    {
     "name": "stdout",
     "output_type": "stream",
     "text": [
      "千手千眼觀世音菩薩聖像\n",
      "<selenium.webdriver.chrome.webdriver.WebDriver (session=\"b0d11adf137542834107b5b3406b33d2\")>\n"
     ]
    }
   ],
   "source": [
    "print(datas[\"shopName\"][0])\n",
    "chrome = get_chrome(url, hide = False)\n",
    "print(chrome)\n",
    "#網頁最大化\n",
    "chrome.maximize_window()"
   ]
  },
  {
   "cell_type": "code",
   "execution_count": 16,
   "metadata": {},
   "outputs": [],
   "source": [
    "xpath1 = \"/html/body/div[1]/div[3]/div[8]/div[3]/div[1]/div[1]/div/div[2]/form/input\"\n",
    "element = find_element(chrome, xpath1)\n",
    "element.clear()\n",
    "element.click()\n",
    "element.send_keys(datas[\"shopName\"][7] + \"\\n\")"
   ]
  },
  {
   "cell_type": "code",
   "execution_count": null,
   "metadata": {},
   "outputs": [],
   "source": []
  },
  {
   "cell_type": "code",
   "execution_count": null,
   "metadata": {},
   "outputs": [],
   "source": []
  },
  {
   "cell_type": "code",
   "execution_count": null,
   "metadata": {},
   "outputs": [],
   "source": []
  },
  {
   "cell_type": "code",
   "execution_count": null,
   "metadata": {},
   "outputs": [],
   "source": []
  }
 ],
 "metadata": {
  "kernelspec": {
   "display_name": "Python 3 (ipykernel)",
   "language": "python",
   "name": "python3"
  },
  "language_info": {
   "codemirror_mode": {
    "name": "ipython",
    "version": 3
   },
   "file_extension": ".py",
   "mimetype": "text/x-python",
   "name": "python",
   "nbconvert_exporter": "python",
   "pygments_lexer": "ipython3",
   "version": "3.9.12"
  }
 },
 "nbformat": 4,
 "nbformat_minor": 2
}
