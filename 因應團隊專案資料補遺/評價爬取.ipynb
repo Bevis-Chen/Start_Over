{
 "cells": [
  {
   "cell_type": "code",
   "execution_count": 1,
   "metadata": {},
   "outputs": [],
   "source": [
    "import requests, time, math, threading\n",
    "import sqlite3, os\n",
    "import pandas as pd\n",
    "from datetime import datetime\n",
    "from bs4 import BeautifulSoup\n",
    "from queue import Queue\n",
    "from tools import get_chrome, find_element, get_soup\n",
    "from fake_useragent import UserAgent\n",
    "from selenium import webdriver\n",
    "from selenium.webdriver.chrome.options import Options\n",
    "from selenium.webdriver.chrome.service import Service\n",
    "from selenium.webdriver.support.ui import Select\n",
    "from selenium.webdriver.common.by import By"
   ]
  },
  {
   "cell_type": "code",
   "execution_count": 2,
   "metadata": {},
   "outputs": [],
   "source": [
    "def get_chrome(url, chromeDriver= r'C:\\webdriver\\chromedriver.exe', hide=False):    \n",
    "    try:        \n",
    "        service=Service(chromeDriver)\n",
    "        options=webdriver.ChromeOptions()  \n",
    "        userAgent = UserAgent().random   # 為了搞定反爬蟲\n",
    "        # print(userAgent )\n",
    "        options.add_argument(f'user-agent= {userAgent}')\n",
    "        if hide:\n",
    "            options.add_argument('--headless')\n",
    "        chrome= webdriver.Chrome(service= service, options=options)\n",
    "        chrome.implicitly_wait(15)\n",
    "        chrome.get(url)\n",
    "        return chrome\n",
    "    except Exception as e:\n",
    "        print(e, \"是出了什麼問題...?\")    \n",
    "    return \"Nothing\"\n",
    "def find_element(chrome, xpath):\n",
    "    try:\n",
    "        return chrome.find_element(By.XPATH, xpath)\n",
    "    except Exception as e:\n",
    "        print(e, \"xpath怪怪的@@\")\n",
    "    return \"Nothing\""
   ]
  },
  {
   "cell_type": "code",
   "execution_count": 17,
   "metadata": {
    "collapsed": true
   },
   "outputs": [
    {
     "name": "stdout",
     "output_type": "stream",
     "text": [
      "     Unnamed: 0.1  Unnamed: 0   ID            shopName  \\\n",
      "0               0           0    0               紫明溪步道   \n",
      "1               1           1    1           冷水坑公共溫泉浴室   \n",
      "2               2           2    2  中國信託文薈館CTBC Museum   \n",
      "3               3           3    3                大湖公園   \n",
      "4               4           4    4                和興炭坑   \n",
      "..            ...         ...  ...                 ...   \n",
      "150           150         150  150     璐露野生活Luluyelife   \n",
      "151           151         151  151          花博公園（新生園區）   \n",
      "152           152         152  152             劍潭山親山步道   \n",
      "153           153         153  153            臺北市兒童新樂園   \n",
      "154           154         154  154      華山1914文化創意產業園區   \n",
      "\n",
      "                        shopAddress          shopPhone  \\\n",
      "0            台北市北投區中興路12號附近（陽明書屋附近）       02-2759-3001   \n",
      "1                 台北市士林區菁山路101巷175號       02-2861-0036   \n",
      "2    台北市南港區經貿二路168號1樓（中國信託金融園區A棟1樓）  02-3327-7777#1099   \n",
      "3                    台北市內湖區成功路五段31號  02-3327-7777#1099   \n",
      "4               台北市信義區信義路五段150巷471弄       02-2759-3001   \n",
      "..                              ...                ...   \n",
      "150             台北市大安區光復南路420巷20號1樓       02-2707-5252   \n",
      "151                台北市中山區新生北路三段105號       02-2585-0192   \n",
      "152            台北市中山區中山北路四段71巷2弄69號       02-2759-3001   \n",
      "153                  台北市士林區承德路五段55號       02-2181-2345   \n",
      "154                   台北市中正區八德路一段1號       02-2358-1914   \n",
      "\n",
      "                                             shopHours  \\\n",
      "0                                               24小時開放   \n",
      "1    週二至日06：00～08：30、10：00～12：30、14：00～16：30、18：00～...   \n",
      "2                                 週二至日11：00～17：30（週一休）   \n",
      "3                                               24小時開放   \n",
      "4                                      週一至日09：00～17：00   \n",
      "..                                                 ...   \n",
      "150                                    週一至日09：00～18：00   \n",
      "151                                             24小時開放   \n",
      "152                                             24小時開放   \n",
      "153          週二至五09：00～17：00／週六、日09：00～18：00（週一休，非寒暑假）   \n",
      "154                                    24小時開放（依現場公告為主）   \n",
      "\n",
      "                                             shopPhoto  \n",
      "0    093f0a5d.jpg \\n 71a97dc8.jpg \\n bd396b43.jpg \\...  \n",
      "1    9cc7ae53.jpg \\n a6fd224c.jpg \\n 8111757c.jpg \\...  \n",
      "2    659c98e5.jpg \\n 83e1b38d.jpg \\n 24c0f290.jpg \\...  \n",
      "3    e608fa4e.jpg \\n 8ebb6ca2.jpg \\n 13e813b9.jpg \\...  \n",
      "4    0825053e.jpg \\n edf45ca7.jpg \\n 15f09961.jpg \\...  \n",
      "..                                                 ...  \n",
      "150  b0342549.jpg \\n f7d4060e.jpg \\n c5e5898f.jpg \\...  \n",
      "151       3b87489a.jpg \\n 7928dcfd.jpg \\n e370ade7.jpg  \n",
      "152  e5fb701a.jpg \\n 2c1ce6b5.jpg \\n 60332644.jpg \\...  \n",
      "153  ad1a9807.jpg \\n 94168796.jpg \\n ab2ccfe7.jpg \\...  \n",
      "154  f86428f2.jpg \\n c18f8537.jpg \\n efb5f50b.jpg \\...  \n",
      "\n",
      "[155 rows x 8 columns]\n"
     ]
    }
   ],
   "source": [
    "url = \"https://www.google.com/maps/\"\n",
    "datas = pd.read_csv(\"Taipei_to_hots_copy1.csv\", encoding = \"utf-8-sig\")\n",
    "print(datas)"
   ]
  },
  {
   "cell_type": "code",
   "execution_count": 35,
   "metadata": {},
   "outputs": [],
   "source": [
    "chrome = get_chrome(url, hide = False)\n",
    "chrome.refresh()\n",
    "#網頁最大化\n",
    "chrome.maximize_window()\n",
    "xpath1 = \"/html/body/div[1]/div[3]/div[8]/div[3]/div[1]/div[1]/div/div[2]/form/input\"\n",
    "element = find_element(chrome, xpath1)\n",
    "element.clear()\n",
    "element.click()\n",
    "element.send_keys(datas[\"shopName\"][0] + \"\\n\")"
   ]
  },
  {
   "cell_type": "code",
   "execution_count": 34,
   "metadata": {},
   "outputs": [],
   "source": [
    "chrome.quit()"
   ]
  },
  {
   "cell_type": "markdown",
   "metadata": {},
   "source": [
    "#### 有選項"
   ]
  },
  {
   "cell_type": "code",
   "execution_count": 36,
   "metadata": {},
   "outputs": [
    {
     "ename": "ElementNotInteractableException",
     "evalue": "Message: element not interactable\n  (Session info: chrome=121.0.6167.189)\nStacktrace:\n\tGetHandleVerifier [0x00007FF718AF5E42+3538674]\n\t(No symbol) [0x00007FF718714C02]\n\t(No symbol) [0x00007FF7185C599D]\n\t(No symbol) [0x00007FF71860D406]\n\t(No symbol) [0x00007FF718601950]\n\t(No symbol) [0x00007FF71862F0AA]\n\t(No symbol) [0x00007FF71860124A]\n\t(No symbol) [0x00007FF71862F2C0]\n\t(No symbol) [0x00007FF71864BDE3]\n\t(No symbol) [0x00007FF71862EE53]\n\t(No symbol) [0x00007FF7185FF514]\n\t(No symbol) [0x00007FF718600631]\n\tGetHandleVerifier [0x00007FF718B26CAD+3738973]\n\tGetHandleVerifier [0x00007FF718B7C506+4089270]\n\tGetHandleVerifier [0x00007FF718B74823+4057299]\n\tGetHandleVerifier [0x00007FF718845C49+720121]\n\t(No symbol) [0x00007FF71872126F]\n\t(No symbol) [0x00007FF71871C304]\n\t(No symbol) [0x00007FF71871C432]\n\t(No symbol) [0x00007FF71870BD04]\n\tBaseThreadInitThunk [0x00007FFA319E257D+29]\n\tRtlUserThreadStart [0x00007FFA3314AA58+40]\n",
     "output_type": "error",
     "traceback": [
      "\u001b[1;31m---------------------------------------------------------------------------\u001b[0m",
      "\u001b[1;31mElementNotInteractableException\u001b[0m           Traceback (most recent call last)",
      "Input \u001b[1;32mIn [36]\u001b[0m, in \u001b[0;36m<cell line: 17>\u001b[1;34m()\u001b[0m\n\u001b[0;32m     15\u001b[0m time\u001b[38;5;241m.\u001b[39msleep(\u001b[38;5;241m0.5\u001b[39m)\n\u001b[0;32m     16\u001b[0m element \u001b[38;5;241m=\u001b[39m chrome\u001b[38;5;241m.\u001b[39mfind_element(By\u001b[38;5;241m.\u001b[39mCLASS_NAME, \u001b[38;5;124m'\u001b[39m\u001b[38;5;124mwNNZR\u001b[39m\u001b[38;5;124m'\u001b[39m)\n\u001b[1;32m---> 17\u001b[0m \u001b[43melement\u001b[49m\u001b[38;5;241;43m.\u001b[39;49m\u001b[43mclick\u001b[49m\u001b[43m(\u001b[49m\u001b[43m)\u001b[49m\n\u001b[0;32m     18\u001b[0m time\u001b[38;5;241m.\u001b[39msleep(\u001b[38;5;241m0.5\u001b[39m)\n\u001b[0;32m     19\u001b[0m comment_roller \u001b[38;5;241m=\u001b[39m \u001b[38;5;124m\"\u001b[39m\u001b[38;5;124m/html/body/div[2]/div[3]/div[8]/div[9]/div/div/div[1]/div[2]/div/div[1]/div/div/div[2]\u001b[39m\u001b[38;5;124m\"\u001b[39m\n",
      "File \u001b[1;32mD:\\Anaconda\\lib\\site-packages\\selenium\\webdriver\\remote\\webelement.py:93\u001b[0m, in \u001b[0;36mWebElement.click\u001b[1;34m(self)\u001b[0m\n\u001b[0;32m     91\u001b[0m \u001b[38;5;28;01mdef\u001b[39;00m \u001b[38;5;21mclick\u001b[39m(\u001b[38;5;28mself\u001b[39m) \u001b[38;5;241m-\u001b[39m\u001b[38;5;241m>\u001b[39m \u001b[38;5;28;01mNone\u001b[39;00m:\n\u001b[0;32m     92\u001b[0m     \u001b[38;5;124;03m\"\"\"Clicks the element.\"\"\"\u001b[39;00m\n\u001b[1;32m---> 93\u001b[0m     \u001b[38;5;28;43mself\u001b[39;49m\u001b[38;5;241;43m.\u001b[39;49m\u001b[43m_execute\u001b[49m\u001b[43m(\u001b[49m\u001b[43mCommand\u001b[49m\u001b[38;5;241;43m.\u001b[39;49m\u001b[43mCLICK_ELEMENT\u001b[49m\u001b[43m)\u001b[49m\n",
      "File \u001b[1;32mD:\\Anaconda\\lib\\site-packages\\selenium\\webdriver\\remote\\webelement.py:410\u001b[0m, in \u001b[0;36mWebElement._execute\u001b[1;34m(self, command, params)\u001b[0m\n\u001b[0;32m    408\u001b[0m     params \u001b[38;5;241m=\u001b[39m {}\n\u001b[0;32m    409\u001b[0m params[\u001b[38;5;124m\"\u001b[39m\u001b[38;5;124mid\u001b[39m\u001b[38;5;124m\"\u001b[39m] \u001b[38;5;241m=\u001b[39m \u001b[38;5;28mself\u001b[39m\u001b[38;5;241m.\u001b[39m_id\n\u001b[1;32m--> 410\u001b[0m \u001b[38;5;28;01mreturn\u001b[39;00m \u001b[38;5;28;43mself\u001b[39;49m\u001b[38;5;241;43m.\u001b[39;49m\u001b[43m_parent\u001b[49m\u001b[38;5;241;43m.\u001b[39;49m\u001b[43mexecute\u001b[49m\u001b[43m(\u001b[49m\u001b[43mcommand\u001b[49m\u001b[43m,\u001b[49m\u001b[43m \u001b[49m\u001b[43mparams\u001b[49m\u001b[43m)\u001b[49m\n",
      "File \u001b[1;32mD:\\Anaconda\\lib\\site-packages\\selenium\\webdriver\\remote\\webdriver.py:444\u001b[0m, in \u001b[0;36mWebDriver.execute\u001b[1;34m(self, driver_command, params)\u001b[0m\n\u001b[0;32m    442\u001b[0m response \u001b[38;5;241m=\u001b[39m \u001b[38;5;28mself\u001b[39m\u001b[38;5;241m.\u001b[39mcommand_executor\u001b[38;5;241m.\u001b[39mexecute(driver_command, params)\n\u001b[0;32m    443\u001b[0m \u001b[38;5;28;01mif\u001b[39;00m response:\n\u001b[1;32m--> 444\u001b[0m     \u001b[38;5;28;43mself\u001b[39;49m\u001b[38;5;241;43m.\u001b[39;49m\u001b[43merror_handler\u001b[49m\u001b[38;5;241;43m.\u001b[39;49m\u001b[43mcheck_response\u001b[49m\u001b[43m(\u001b[49m\u001b[43mresponse\u001b[49m\u001b[43m)\u001b[49m\n\u001b[0;32m    445\u001b[0m     response[\u001b[38;5;124m\"\u001b[39m\u001b[38;5;124mvalue\u001b[39m\u001b[38;5;124m\"\u001b[39m] \u001b[38;5;241m=\u001b[39m \u001b[38;5;28mself\u001b[39m\u001b[38;5;241m.\u001b[39m_unwrap_value(response\u001b[38;5;241m.\u001b[39mget(\u001b[38;5;124m\"\u001b[39m\u001b[38;5;124mvalue\u001b[39m\u001b[38;5;124m\"\u001b[39m, \u001b[38;5;28;01mNone\u001b[39;00m))\n\u001b[0;32m    446\u001b[0m     \u001b[38;5;28;01mreturn\u001b[39;00m response\n",
      "File \u001b[1;32mD:\\Anaconda\\lib\\site-packages\\selenium\\webdriver\\remote\\errorhandler.py:249\u001b[0m, in \u001b[0;36mErrorHandler.check_response\u001b[1;34m(self, response)\u001b[0m\n\u001b[0;32m    247\u001b[0m         alert_text \u001b[38;5;241m=\u001b[39m value[\u001b[38;5;124m\"\u001b[39m\u001b[38;5;124malert\u001b[39m\u001b[38;5;124m\"\u001b[39m]\u001b[38;5;241m.\u001b[39mget(\u001b[38;5;124m\"\u001b[39m\u001b[38;5;124mtext\u001b[39m\u001b[38;5;124m\"\u001b[39m)\n\u001b[0;32m    248\u001b[0m     \u001b[38;5;28;01mraise\u001b[39;00m exception_class(message, screen, stacktrace, alert_text)  \u001b[38;5;66;03m# type: ignore[call-arg]  # mypy is not smart enough here\u001b[39;00m\n\u001b[1;32m--> 249\u001b[0m \u001b[38;5;28;01mraise\u001b[39;00m exception_class(message, screen, stacktrace)\n",
      "\u001b[1;31mElementNotInteractableException\u001b[0m: Message: element not interactable\n  (Session info: chrome=121.0.6167.189)\nStacktrace:\n\tGetHandleVerifier [0x00007FF718AF5E42+3538674]\n\t(No symbol) [0x00007FF718714C02]\n\t(No symbol) [0x00007FF7185C599D]\n\t(No symbol) [0x00007FF71860D406]\n\t(No symbol) [0x00007FF718601950]\n\t(No symbol) [0x00007FF71862F0AA]\n\t(No symbol) [0x00007FF71860124A]\n\t(No symbol) [0x00007FF71862F2C0]\n\t(No symbol) [0x00007FF71864BDE3]\n\t(No symbol) [0x00007FF71862EE53]\n\t(No symbol) [0x00007FF7185FF514]\n\t(No symbol) [0x00007FF718600631]\n\tGetHandleVerifier [0x00007FF718B26CAD+3738973]\n\tGetHandleVerifier [0x00007FF718B7C506+4089270]\n\tGetHandleVerifier [0x00007FF718B74823+4057299]\n\tGetHandleVerifier [0x00007FF718845C49+720121]\n\t(No symbol) [0x00007FF71872126F]\n\t(No symbol) [0x00007FF71871C304]\n\t(No symbol) [0x00007FF71871C432]\n\t(No symbol) [0x00007FF71870BD04]\n\tBaseThreadInitThunk [0x00007FFA319E257D+29]\n\tRtlUserThreadStart [0x00007FFA3314AA58+40]\n"
     ]
    }
   ],
   "source": [
    "if \"Nv2PK Q2HXcd THOPZb\" in str(chrome.page_source):\n",
    "    soup = BeautifulSoup(chrome.page_source, \"html.parser\")\n",
    "    num = -1\n",
    "    for number in soup.find_all(\"div\", class_ = \"Nv2PK Q2HXcd THOPZb\"):\n",
    "        number_text = eval(number.find(\"span\", class_ = \"UY7F9\").text)\n",
    "        if number_text > num:\n",
    "            num = number_text\n",
    "            url_new = number.find(\"a\", class_ = \"hfpxzc\").get(\"href\")\n",
    "    chrome.quit()\n",
    "chrome = get_chrome(url_new, hide = False)\n",
    "time.sleep(0.5)\n",
    "#網頁最大化\n",
    "chrome.maximize_window()\n",
    "chrome.refresh()\n",
    "time.sleep(0.5)\n",
    "element = chrome.find_element(By.CLASS_NAME, 'wNNZR')\n",
    "element.click()\n",
    "time.sleep(0.5)\n",
    "comment_roller = \"/html/body/div[2]/div[3]/div[8]/div[9]/div/div/div[1]/div[2]/div/div[1]/div/div/div[2]\"\n",
    "pane = chrome.find_element(By.XPATH, comment_roller)\n",
    "chrome.execute_script(\"arguments[0].scrollTop = arguments[0].scrollHeight\", pane)\n",
    "time.sleep(0.5)\n",
    "# 不一定要有這個\n",
    "comment_roller = \"/html/body/div[2]/div[3]/div[8]/div[9]/div/div/div[1]/div[2]/div/div[1]/div/div/div[2]\"\n",
    "pane1 = chrome.find_element(By.XPATH, comment_roller)\n",
    "chrome.execute_script(\"arguments[0].scrollTop = 0\", pane1)\n",
    "time.sleep(0.5)\n",
    "soup2 = BeautifulSoup(chrome.page_source, \"html.parser\")\n",
    "comments = soup2.find_all(\"div\", class_ = \"jftiEf fontBodyMedium\")\n",
    "print(len(comments))\n",
    "# print(comments)\n",
    "time.sleep(2)\n",
    "# numbers_w8nwRe = [one.find(class_ = \"w8nwRe\") for one in comments if \"w8nwRe\" in str(one)]\n",
    "for i in comments:\n",
    "    if \"w8nwRe\" in str(i): \n",
    "        element = chrome.find_element(By.CLASS_NAME, 'w8nwRe')\n",
    "        element.click()\n",
    "time.sleep(0.5)\n",
    "comment_roller = \"/html/body/div[2]/div[3]/div[8]/div[9]/div/div/div[1]/div[2]/div/div[1]/div/div/div[2]\"\n",
    "pane1 = chrome.find_element(By.XPATH, comment_roller)\n",
    "chrome.execute_script(\"arguments[0].scrollTop = 0\", pane1)\n",
    "time.sleep(0.5)\n",
    "soup2 = BeautifulSoup(chrome.page_source, \"html.parser\")\n",
    "comments = soup2.find_all(\"div\", class_ = \"jftiEf fontBodyMedium\")\n",
    "print(len(comments))\n",
    "print(comments)"
   ]
  },
  {
   "cell_type": "code",
   "execution_count": null,
   "metadata": {},
   "outputs": [],
   "source": [
    "soup2 = BeautifulSoup(chrome.page_source, \"html.parser\")\n",
    "\"全文\" in str(soup2)"
   ]
  },
  {
   "cell_type": "code",
   "execution_count": null,
   "metadata": {},
   "outputs": [],
   "source": [
    "soup2 = BeautifulSoup(chrome.page_source, \"html.parser\")\n",
    "comments = soup2.find_all(\"div\", class_ = \"jftiEf fontBodyMedium\")\n",
    "print(len(comments))\n",
    "print(comments)"
   ]
  },
  {
   "cell_type": "code",
   "execution_count": null,
   "metadata": {},
   "outputs": [],
   "source": [
    "data = []\n",
    "for com in comments:\n",
    "    temp = []\n",
    "    if \"wiI7pd\" in str(com):            \n",
    "        people = \"姓名: \" + com.find(class_ = \"d4r55\").text\n",
    "        comment = \"評論 : \" + com.find(class_ = \"wiI7pd\").text\n",
    "        temp.append([people, comment])\n",
    "    data.append(temp)"
   ]
  },
  {
   "cell_type": "code",
   "execution_count": null,
   "metadata": {},
   "outputs": [],
   "source": [
    "data"
   ]
  },
  {
   "cell_type": "code",
   "execution_count": null,
   "metadata": {},
   "outputs": [],
   "source": [
    "len(data)"
   ]
  },
  {
   "cell_type": "code",
   "execution_count": null,
   "metadata": {},
   "outputs": [],
   "source": [
    "chrome.quit()"
   ]
  },
  {
   "cell_type": "code",
   "execution_count": null,
   "metadata": {},
   "outputs": [],
   "source": []
  },
  {
   "cell_type": "markdown",
   "metadata": {},
   "source": [
    "###### <button class=\"w8nwRe kyuRq\" aria-expanded=\"false\" aria-controls=\"ChdDSUhNMG9nS0VJQ0FnSUNOeHRPWW1nRRAB\" \n",
    "data-review-id=\"ChdDSUhNMG9nS0VJQ0FnSUNOeHRPWW1nRRAB\" \n",
    "jslog=\"63707; track:click;metadata:WyIwYWhVS0V3anZ5dFdNNk1XRUF4VTRTRjRFSFVzYUNHUVEwcE1GQ0d3b0FRIl0=\" \n",
    "aria-label=\"顯示更多\" jsaction=\"pane.wfvdle91.review.expandReview\">全文</button>\n"
   ]
  },
  {
   "cell_type": "markdown",
   "metadata": {},
   "source": [
    "###### <button class=\"w8nwRe kyuRq\" aria-expanded=\"false\" aria-controls=\"ChdDSUhNMG9nS0VJQ0FnSURHNHZ1QS1nRRAB\" \n",
    "data-review-id=\"ChdDSUhNMG9nS0VJQ0FnSURHNHZ1QS1nRRAB\" \n",
    "jslog=\"63707; track:click;metadata:WyIwYWhVS0V3akpwOGY2cWNhRUF4V2tWbDRFSFMzQ0M1MFEwcE1GQ0NZb0FRIl0=\" \n",
    "aria-label=\"顯示更多\" jsaction=\"pane.wfvdle102.review.expandReview\">全文</button>"
   ]
  },
  {
   "cell_type": "code",
   "execution_count": null,
   "metadata": {},
   "outputs": [],
   "source": []
  },
  {
   "cell_type": "code",
   "execution_count": null,
   "metadata": {},
   "outputs": [],
   "source": []
  },
  {
   "cell_type": "code",
   "execution_count": null,
   "metadata": {},
   "outputs": [],
   "source": []
  }
 ],
 "metadata": {
  "kernelspec": {
   "display_name": "Python 3 (ipykernel)",
   "language": "python",
   "name": "python3"
  },
  "language_info": {
   "codemirror_mode": {
    "name": "ipython",
    "version": 3
   },
   "file_extension": ".py",
   "mimetype": "text/x-python",
   "name": "python",
   "nbconvert_exporter": "python",
   "pygments_lexer": "ipython3",
   "version": "3.9.12"
  }
 },
 "nbformat": 4,
 "nbformat_minor": 2
}
