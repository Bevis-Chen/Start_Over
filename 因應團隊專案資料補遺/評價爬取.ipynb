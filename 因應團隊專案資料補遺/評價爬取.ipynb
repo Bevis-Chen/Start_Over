{
 "cells": [
  {
   "cell_type": "code",
   "execution_count": 1,
   "metadata": {},
   "outputs": [],
   "source": [
    "import requests, time, math, threading\n",
    "import sqlite3, os\n",
    "import pandas as pd\n",
    "from datetime import datetime\n",
    "from bs4 import BeautifulSoup\n",
    "from queue import Queue\n",
    "from tools import get_chrome, find_element, get_soup\n",
    "from fake_useragent import UserAgent\n",
    "from selenium import webdriver\n",
    "from selenium.webdriver.chrome.options import Options\n",
    "from selenium.webdriver.chrome.service import Service\n",
    "from selenium.webdriver.support.ui import Select\n",
    "from selenium.webdriver.common.by import By"
   ]
  },
  {
   "cell_type": "code",
   "execution_count": 2,
   "metadata": {},
   "outputs": [],
   "source": [
    "def get_chrome(url, chromeDriver= r'C:\\webdriver\\chromedriver.exe', hide=False):    \n",
    "    try:        \n",
    "        service=Service(chromeDriver)\n",
    "        options=webdriver.ChromeOptions()  \n",
    "        userAgent = UserAgent().random   # 為了搞定反爬蟲\n",
    "        # print(userAgent )\n",
    "        options.add_argument(f'user-agent= {userAgent}')\n",
    "        if hide:\n",
    "            options.add_argument('--headless')\n",
    "        chrome= webdriver.Chrome(service= service, options=options)\n",
    "        chrome.implicitly_wait(15)\n",
    "        chrome.get(url)\n",
    "        return chrome\n",
    "    except Exception as e:\n",
    "        print(e, \"是出了什麼問題...?\")    \n",
    "    return \"Nothing\"\n",
    "def find_element(chrome, xpath):\n",
    "    try:\n",
    "        return chrome.find_element(By.XPATH, xpath)\n",
    "    except Exception as e:\n",
    "        print(e, \"xpath怪怪的@@\")\n",
    "    return \"Nothing\""
   ]
  },
  {
   "cell_type": "code",
   "execution_count": 3,
   "metadata": {
    "collapsed": true
   },
   "outputs": [
    {
     "name": "stdout",
     "output_type": "stream",
     "text": [
      "     Unnamed: 0.1  Unnamed: 0   ID            shopName  \\\n",
      "0               0           0    0               紫明溪步道   \n",
      "1               1           1    1           冷水坑公共溫泉浴室   \n",
      "2               2           2    2  中國信託文薈館CTBC Museum   \n",
      "3               3           3    3                大湖公園   \n",
      "4               4           4    4                和興炭坑   \n",
      "..            ...         ...  ...                 ...   \n",
      "150           150         150  150     璐露野生活Luluyelife   \n",
      "151           151         151  151          花博公園（新生園區）   \n",
      "152           152         152  152             劍潭山親山步道   \n",
      "153           153         153  153            臺北市兒童新樂園   \n",
      "154           154         154  154      華山1914文化創意產業園區   \n",
      "\n",
      "                        shopAddress          shopPhone  \\\n",
      "0            台北市北投區中興路12號附近（陽明書屋附近）       02-2759-3001   \n",
      "1                 台北市士林區菁山路101巷175號       02-2861-0036   \n",
      "2    台北市南港區經貿二路168號1樓（中國信託金融園區A棟1樓）  02-3327-7777#1099   \n",
      "3                    台北市內湖區成功路五段31號  02-3327-7777#1099   \n",
      "4               台北市信義區信義路五段150巷471弄       02-2759-3001   \n",
      "..                              ...                ...   \n",
      "150             台北市大安區光復南路420巷20號1樓       02-2707-5252   \n",
      "151                台北市中山區新生北路三段105號       02-2585-0192   \n",
      "152            台北市中山區中山北路四段71巷2弄69號       02-2759-3001   \n",
      "153                  台北市士林區承德路五段55號       02-2181-2345   \n",
      "154                   台北市中正區八德路一段1號       02-2358-1914   \n",
      "\n",
      "                                             shopHours  \\\n",
      "0                                               24小時開放   \n",
      "1    週二至日06：00～08：30、10：00～12：30、14：00～16：30、18：00～...   \n",
      "2                                 週二至日11：00～17：30（週一休）   \n",
      "3                                               24小時開放   \n",
      "4                                      週一至日09：00～17：00   \n",
      "..                                                 ...   \n",
      "150                                    週一至日09：00～18：00   \n",
      "151                                             24小時開放   \n",
      "152                                             24小時開放   \n",
      "153          週二至五09：00～17：00／週六、日09：00～18：00（週一休，非寒暑假）   \n",
      "154                                    24小時開放（依現場公告為主）   \n",
      "\n",
      "                                             shopPhoto  \n",
      "0    093f0a5d.jpg \\n 71a97dc8.jpg \\n bd396b43.jpg \\...  \n",
      "1    9cc7ae53.jpg \\n a6fd224c.jpg \\n 8111757c.jpg \\...  \n",
      "2    659c98e5.jpg \\n 83e1b38d.jpg \\n 24c0f290.jpg \\...  \n",
      "3    e608fa4e.jpg \\n 8ebb6ca2.jpg \\n 13e813b9.jpg \\...  \n",
      "4    0825053e.jpg \\n edf45ca7.jpg \\n 15f09961.jpg \\...  \n",
      "..                                                 ...  \n",
      "150  b0342549.jpg \\n f7d4060e.jpg \\n c5e5898f.jpg \\...  \n",
      "151       3b87489a.jpg \\n 7928dcfd.jpg \\n e370ade7.jpg  \n",
      "152  e5fb701a.jpg \\n 2c1ce6b5.jpg \\n 60332644.jpg \\...  \n",
      "153  ad1a9807.jpg \\n 94168796.jpg \\n ab2ccfe7.jpg \\...  \n",
      "154  f86428f2.jpg \\n c18f8537.jpg \\n efb5f50b.jpg \\...  \n",
      "\n",
      "[155 rows x 8 columns]\n"
     ]
    }
   ],
   "source": [
    "url = \"https://www.google.com/maps/\"\n",
    "datas = pd.read_csv(\"Taipei_to_hots_copy1.csv\", encoding = \"utf-8-sig\")\n",
    "print(datas)"
   ]
  },
  {
   "cell_type": "code",
   "execution_count": 35,
   "metadata": {},
   "outputs": [],
   "source": [
    "while True:\n",
    "    chrome = get_chrome(url, hide = False)\n",
    "    if \"yZqPAf\" in str(chrome.page_source):\n",
    "        chrome = get_chrome(url, hide = False)\n",
    "    else:\n",
    "        break\n",
    "chrome.refresh()\n",
    "#網頁最大化\n",
    "chrome.maximize_window()\n",
    "xpath1 = \"/html/body/div[1]/div[3]/div[8]/div[3]/div[1]/div[1]/div/div[2]/form/input\"\n",
    "element = find_element(chrome, xpath1)\n",
    "element.clear()\n",
    "element.click()\n",
    "element.send_keys(datas[\"shopName\"][2] + \"\\n\")"
   ]
  },
  {
   "cell_type": "code",
   "execution_count": 32,
   "metadata": {},
   "outputs": [],
   "source": [
    "chrome.quit()"
   ]
  },
  {
   "cell_type": "markdown",
   "metadata": {},
   "source": [
    "#### 有選項"
   ]
  },
  {
   "cell_type": "code",
   "execution_count": 36,
   "metadata": {
    "scrolled": true
   },
   "outputs": [
    {
     "name": "stdout",
     "output_type": "stream",
     "text": [
      "Message: no such element: Unable to locate element: {\"method\":\"xpath\",\"selector\":\"/html/body/div[2]/div[3]/div[8]/div[9]/div/div/div[1]/div[2]/div/div[1]/div/div/div[2]\"}\n",
      "  (Session info: chrome=121.0.6167.189)\n",
      "Stacktrace:\n",
      "\tGetHandleVerifier [0x00007FF6F7715E42+3538674]\n",
      "\t(No symbol) [0x00007FF6F7334C02]\n",
      "\t(No symbol) [0x00007FF6F71E5AEB]\n",
      "\t(No symbol) [0x00007FF6F722BF4E]\n",
      "\t(No symbol) [0x00007FF6F722C0CC]\n",
      "\t(No symbol) [0x00007FF6F726E477]\n",
      "\t(No symbol) [0x00007FF6F724F0EF]\n",
      "\t(No symbol) [0x00007FF6F726BDE3]\n",
      "\t(No symbol) [0x00007FF6F724EE53]\n",
      "\t(No symbol) [0x00007FF6F721F514]\n",
      "\t(No symbol) [0x00007FF6F7220631]\n",
      "\tGetHandleVerifier [0x00007FF6F7746CAD+3738973]\n",
      "\tGetHandleVerifier [0x00007FF6F779C506+4089270]\n",
      "\tGetHandleVerifier [0x00007FF6F7794823+4057299]\n",
      "\tGetHandleVerifier [0x00007FF6F7465C49+720121]\n",
      "\t(No symbol) [0x00007FF6F734126F]\n",
      "\t(No symbol) [0x00007FF6F733C304]\n",
      "\t(No symbol) [0x00007FF6F733C432]\n",
      "\t(No symbol) [0x00007FF6F732BD04]\n",
      "\tBaseThreadInitThunk [0x00007FFA319E257D+29]\n",
      "\tRtlUserThreadStart [0x00007FFA3314AA58+40]\n",
      "\n"
     ]
    }
   ],
   "source": [
    "try:\n",
    "    if \"Nv2PK Q2HXcd THOPZb\" in str(chrome.page_source):\n",
    "        soup = BeautifulSoup(chrome.page_source, \"html.parser\")\n",
    "        num = -1\n",
    "        for number in soup.find_all(\"div\", class_ = \"Nv2PK Q2HXcd THOPZb\"):\n",
    "            number_text = eval(number.find(\"span\", class_ = \"UY7F9\").text)\n",
    "            if number_text > num:\n",
    "                num = number_text\n",
    "                url_new = number.find(\"a\", class_ = \"hfpxzc\").get(\"href\")\n",
    "        chrome.quit()\n",
    "        chrome = get_chrome(url_new, hide = False)\n",
    "        time.sleep(0.5)\n",
    "        #網頁最大化\n",
    "        chrome.maximize_window()\n",
    "        chrome.refresh()    \n",
    "    elif \"RZ66Rb FgCUCc\" in str(chrome.page_source):\n",
    "        time.sleep(0.5)   \n",
    "    xpath = \"/html/body/div[2]/div[3]/div[8]/div[9]/div/div/div[1]/div[2]/div/div[1]/div/div/div[3]/div/div/button[2]/div[2]/div[2]\"\n",
    "    xpath = \"/html/body/div[1]/div[3]/div[8]/div[9]/div/div/div[1]/div[2]/div/div[1]/div/div/div[3]/div/div/button[2]/div[2]/div[2]\"\n",
    "    element = chrome.find_element(By.XPATH, xpath)\n",
    "    element.click()\n",
    "    time.sleep(0.5)\n",
    "    comment_roller = \"/html/body/div[2]/div[3]/div[8]/div[9]/div/div/div[1]/div[2]/div/div[1]/div/div/div[2]\"\n",
    "    pane = chrome.find_element(By.XPATH, comment_roller)\n",
    "    chrome.execute_script(\"arguments[0].scrollTop = arguments[0].scrollHeight\", pane)\n",
    "    time.sleep(0.5)\n",
    "    # 不一定要有這個\n",
    "    comment_roller = \"/html/body/div[2]/div[3]/div[8]/div[9]/div/div/div[1]/div[2]/div/div[1]/div/div/div[2]\"\n",
    "    pane1 = chrome.find_element(By.XPATH, comment_roller)\n",
    "    chrome.execute_script(\"arguments[0].scrollTop = 0\", pane1)\n",
    "    time.sleep(0.5)\n",
    "    soup2 = BeautifulSoup(chrome.page_source, \"html.parser\")\n",
    "    comments = soup2.find_all(\"div\", class_ = \"jftiEf fontBodyMedium\")\n",
    "    print(len(comments))\n",
    "    # print(comments)\n",
    "    time.sleep(2)\n",
    "    # numbers_w8nwRe = [one.find(class_ = \"w8nwRe\") for one in comments if \"w8nwRe\" in str(one)]\n",
    "    for i in comments:\n",
    "        if \"w8nwRe\" in str(i): \n",
    "            element = chrome.find_element(By.CLASS_NAME, 'w8nwRe')\n",
    "            element.click()\n",
    "    time.sleep(0.5)\n",
    "    comment_roller = \"/html/body/div[2]/div[3]/div[8]/div[9]/div/div/div[1]/div[2]/div/div[1]/div/div/div[2]\"\n",
    "    pane1 = chrome.find_element(By.XPATH, comment_roller)\n",
    "    chrome.execute_script(\"arguments[0].scrollTop = 0\", pane1)\n",
    "    time.sleep(0.5)\n",
    "    soup2 = BeautifulSoup(chrome.page_source, \"html.parser\")\n",
    "    comments = soup2.find_all(\"div\", class_ = \"jftiEf fontBodyMedium\")\n",
    "    print(len(comments))\n",
    "    print(comments)\n",
    "except Exception as e:\n",
    "    print(e)"
   ]
  },
  {
   "cell_type": "code",
   "execution_count": null,
   "metadata": {},
   "outputs": [],
   "source": [
    "soup2 = BeautifulSoup(chrome.page_source, \"html.parser\")\n",
    "\"全文\" in str(soup2)"
   ]
  },
  {
   "cell_type": "code",
   "execution_count": null,
   "metadata": {},
   "outputs": [],
   "source": [
    "soup2 = BeautifulSoup(chrome.page_source, \"html.parser\")\n",
    "comments = soup2.find_all(\"div\", class_ = \"jftiEf fontBodyMedium\")\n",
    "print(len(comments))\n",
    "print(comments)"
   ]
  },
  {
   "cell_type": "code",
   "execution_count": null,
   "metadata": {},
   "outputs": [],
   "source": [
    "data = []\n",
    "for com in comments:\n",
    "    temp = []\n",
    "    if \"wiI7pd\" in str(com):            \n",
    "        people = \"姓名: \" + com.find(class_ = \"d4r55\").text\n",
    "        comment = \"評論 : \" + com.find(class_ = \"wiI7pd\").text\n",
    "        temp.append([people, comment])\n",
    "    data.append(temp)"
   ]
  },
  {
   "cell_type": "code",
   "execution_count": null,
   "metadata": {},
   "outputs": [],
   "source": [
    "data"
   ]
  },
  {
   "cell_type": "code",
   "execution_count": null,
   "metadata": {},
   "outputs": [],
   "source": [
    "len(data)"
   ]
  },
  {
   "cell_type": "code",
   "execution_count": null,
   "metadata": {},
   "outputs": [],
   "source": [
    "chrome.quit()"
   ]
  },
  {
   "cell_type": "code",
   "execution_count": null,
   "metadata": {},
   "outputs": [],
   "source": []
  },
  {
   "cell_type": "markdown",
   "metadata": {},
   "source": [
    "###### <button class=\"w8nwRe kyuRq\" aria-expanded=\"false\" aria-controls=\"ChdDSUhNMG9nS0VJQ0FnSUNOeHRPWW1nRRAB\" \n",
    "data-review-id=\"ChdDSUhNMG9nS0VJQ0FnSUNOeHRPWW1nRRAB\" \n",
    "jslog=\"63707; track:click;metadata:WyIwYWhVS0V3anZ5dFdNNk1XRUF4VTRTRjRFSFVzYUNHUVEwcE1GQ0d3b0FRIl0=\" \n",
    "aria-label=\"顯示更多\" jsaction=\"pane.wfvdle91.review.expandReview\">全文</button>\n"
   ]
  },
  {
   "cell_type": "markdown",
   "metadata": {},
   "source": [
    "###### <button class=\"w8nwRe kyuRq\" aria-expanded=\"false\" aria-controls=\"ChdDSUhNMG9nS0VJQ0FnSURHNHZ1QS1nRRAB\" \n",
    "data-review-id=\"ChdDSUhNMG9nS0VJQ0FnSURHNHZ1QS1nRRAB\" \n",
    "jslog=\"63707; track:click;metadata:WyIwYWhVS0V3akpwOGY2cWNhRUF4V2tWbDRFSFMzQ0M1MFEwcE1GQ0NZb0FRIl0=\" \n",
    "aria-label=\"顯示更多\" jsaction=\"pane.wfvdle102.review.expandReview\">全文</button>"
   ]
  },
  {
   "cell_type": "code",
   "execution_count": null,
   "metadata": {},
   "outputs": [],
   "source": []
  },
  {
   "cell_type": "code",
   "execution_count": null,
   "metadata": {},
   "outputs": [],
   "source": []
  },
  {
   "cell_type": "code",
   "execution_count": null,
   "metadata": {},
   "outputs": [],
   "source": []
  }
 ],
 "metadata": {
  "kernelspec": {
   "display_name": "Python 3 (ipykernel)",
   "language": "python",
   "name": "python3"
  },
  "language_info": {
   "codemirror_mode": {
    "name": "ipython",
    "version": 3
   },
   "file_extension": ".py",
   "mimetype": "text/x-python",
   "name": "python",
   "nbconvert_exporter": "python",
   "pygments_lexer": "ipython3",
   "version": "3.9.12"
  }
 },
 "nbformat": 4,
 "nbformat_minor": 2
}
